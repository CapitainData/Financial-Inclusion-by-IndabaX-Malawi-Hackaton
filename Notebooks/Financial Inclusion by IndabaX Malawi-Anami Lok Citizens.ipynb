{
 "cells": [
  {
   "cell_type": "markdown",
   "id": "d1acc784",
   "metadata": {},
   "source": [
    "# Financial Inclusion by IndabaX Malawi-Anami Lok Citizens"
   ]
  },
  {
   "attachments": {},
   "cell_type": "markdown",
   "id": "5a123cab",
   "metadata": {},
   "source": [
    "![Financial Inclusion in Africa](https://www.caritas.org/wordpress/wp-content/uploads/2019/05/GeneralAssembly.jpg)"
   ]
  },
  {
   "cell_type": "markdown",
   "id": "a0322315",
   "metadata": {},
   "source": [
    "## Libraries Import"
   ]
  },
  {
   "cell_type": "code",
   "execution_count": 37,
   "id": "33cd669b",
   "metadata": {
    "ExecuteTime": {
     "end_time": "2021-08-10T04:14:09.694009Z",
     "start_time": "2021-08-10T04:14:09.690331Z"
    }
   },
   "outputs": [],
   "source": [
    "# !pip install -qr ../requirements.txt"
   ]
  },
  {
   "cell_type": "code",
   "execution_count": 1,
   "id": "d05b01d0",
   "metadata": {
    "ExecuteTime": {
     "end_time": "2021-08-10T03:52:57.164716Z",
     "start_time": "2021-08-10T03:52:50.531417Z"
    }
   },
   "outputs": [],
   "source": [
    "import os \n",
    "import numpy as np \n",
    "import pandas as pd \n",
    "from zindi.user import Zindian\n",
    "from catboost import CatBoostClassifier, Pool \n",
    "from category_encoders import CountEncoder\n",
    "from sklearn.model_selection import StratifiedKFold\n",
    "from sklearn.metrics import roc_auc_score, classification_report, confusion_matrix, accuracy_score\n",
    "from scipy.stats import mode\n",
    "from sklearn.preprocessing import MinMaxScaler\n",
    "from imblearn.over_sampling import RandomOverSampler\n",
    "import warnings\n",
    "warnings.filterwarnings(\"ignore\")"
   ]
  },
  {
   "cell_type": "code",
   "execution_count": 2,
   "id": "59583fa9",
   "metadata": {
    "ExecuteTime": {
     "end_time": "2021-08-10T03:52:57.184028Z",
     "start_time": "2021-08-10T03:52:57.167197Z"
    }
   },
   "outputs": [
    {
     "data": {
      "text/plain": [
       "['SampleSubmission.csv',\n",
       " 'Test.csv',\n",
       " 'Train.csv',\n",
       " 'VariableDefinitions.csv',\n",
       " 'indabax-malawi-2021.zip']"
      ]
     },
     "execution_count": 2,
     "metadata": {},
     "output_type": "execute_result"
    }
   ],
   "source": [
    "sorted(os.listdir(\"../Data\"))"
   ]
  },
  {
   "cell_type": "markdown",
   "id": "4dec98fc",
   "metadata": {},
   "source": [
    "## Read Data"
   ]
  },
  {
   "cell_type": "code",
   "execution_count": 3,
   "id": "6bd2d65e",
   "metadata": {
    "ExecuteTime": {
     "end_time": "2021-08-10T03:52:57.461374Z",
     "start_time": "2021-08-10T03:52:57.186745Z"
    }
   },
   "outputs": [],
   "source": [
    "ss, test, train, vd = [pd.read_csv(f\"../Data/{f}\") for f in sorted(os.listdir(\"../Data\")) if f.endswith(\".csv\")]"
   ]
  },
  {
   "cell_type": "markdown",
   "id": "2cba0133",
   "metadata": {},
   "source": [
    "## Little Data Exploration"
   ]
  },
  {
   "cell_type": "code",
   "execution_count": 4,
   "id": "9233bfd1",
   "metadata": {
    "ExecuteTime": {
     "end_time": "2021-08-10T03:52:57.478228Z",
     "start_time": "2021-08-10T03:52:57.464747Z"
    },
    "scrolled": true
   },
   "outputs": [
    {
     "data": {
      "text/html": [
       "<div>\n",
       "<style scoped>\n",
       "    .dataframe tbody tr th:only-of-type {\n",
       "        vertical-align: middle;\n",
       "    }\n",
       "\n",
       "    .dataframe tbody tr th {\n",
       "        vertical-align: top;\n",
       "    }\n",
       "\n",
       "    .dataframe thead th {\n",
       "        text-align: right;\n",
       "    }\n",
       "</style>\n",
       "<table border=\"1\" class=\"dataframe\">\n",
       "  <thead>\n",
       "    <tr style=\"text-align: right;\">\n",
       "      <th></th>\n",
       "      <th>unique_id</th>\n",
       "      <th>bank_account</th>\n",
       "    </tr>\n",
       "  </thead>\n",
       "  <tbody>\n",
       "    <tr>\n",
       "      <th>33605</th>\n",
       "      <td>uniqueid_2998 x Uganda</td>\n",
       "      <td>0</td>\n",
       "    </tr>\n",
       "    <tr>\n",
       "      <th>33606</th>\n",
       "      <td>uniqueid_2999 x Uganda</td>\n",
       "      <td>0</td>\n",
       "    </tr>\n",
       "    <tr>\n",
       "      <th>33607</th>\n",
       "      <td>uniqueid_3000 x Uganda</td>\n",
       "      <td>0</td>\n",
       "    </tr>\n",
       "    <tr>\n",
       "      <th>33608</th>\n",
       "      <td>uniqueid_3001 x Uganda</td>\n",
       "      <td>0</td>\n",
       "    </tr>\n",
       "    <tr>\n",
       "      <th>33609</th>\n",
       "      <td>uniqueid_3002 x Uganda</td>\n",
       "      <td>0</td>\n",
       "    </tr>\n",
       "  </tbody>\n",
       "</table>\n",
       "</div>"
      ],
      "text/plain": [
       "                    unique_id  bank_account\n",
       "33605  uniqueid_2998 x Uganda             0\n",
       "33606  uniqueid_2999 x Uganda             0\n",
       "33607  uniqueid_3000 x Uganda             0\n",
       "33608  uniqueid_3001 x Uganda             0\n",
       "33609  uniqueid_3002 x Uganda             0"
      ]
     },
     "execution_count": 4,
     "metadata": {},
     "output_type": "execute_result"
    }
   ],
   "source": [
    "ss.tail(5)"
   ]
  },
  {
   "cell_type": "code",
   "execution_count": 5,
   "id": "a858466b",
   "metadata": {
    "ExecuteTime": {
     "end_time": "2021-08-10T03:52:57.569390Z",
     "start_time": "2021-08-10T03:52:57.481446Z"
    }
   },
   "outputs": [
    {
     "data": {
      "text/html": [
       "<div>\n",
       "<style scoped>\n",
       "    .dataframe tbody tr th:only-of-type {\n",
       "        vertical-align: middle;\n",
       "    }\n",
       "\n",
       "    .dataframe tbody tr th {\n",
       "        vertical-align: top;\n",
       "    }\n",
       "\n",
       "    .dataframe thead th {\n",
       "        text-align: right;\n",
       "    }\n",
       "</style>\n",
       "<table border=\"1\" class=\"dataframe\">\n",
       "  <thead>\n",
       "    <tr style=\"text-align: right;\">\n",
       "      <th></th>\n",
       "      <th>country</th>\n",
       "      <th>year</th>\n",
       "      <th>uniqueid</th>\n",
       "      <th>location_type</th>\n",
       "      <th>cellphone_access</th>\n",
       "      <th>household_size</th>\n",
       "      <th>age_of_respondent</th>\n",
       "      <th>gender_of_respondent</th>\n",
       "      <th>relationship_with_head</th>\n",
       "      <th>marital_status</th>\n",
       "      <th>education_level</th>\n",
       "      <th>job_type</th>\n",
       "    </tr>\n",
       "  </thead>\n",
       "  <tbody>\n",
       "    <tr>\n",
       "      <th>10081</th>\n",
       "      <td>Uganda</td>\n",
       "      <td>2018</td>\n",
       "      <td>uniqueid_2998</td>\n",
       "      <td>Rural</td>\n",
       "      <td>No</td>\n",
       "      <td>2</td>\n",
       "      <td>62</td>\n",
       "      <td>Female</td>\n",
       "      <td>Spouse</td>\n",
       "      <td>Married/Living together</td>\n",
       "      <td>Primary education</td>\n",
       "      <td>Self employed</td>\n",
       "    </tr>\n",
       "    <tr>\n",
       "      <th>10082</th>\n",
       "      <td>Uganda</td>\n",
       "      <td>2018</td>\n",
       "      <td>uniqueid_2999</td>\n",
       "      <td>Urban</td>\n",
       "      <td>Yes</td>\n",
       "      <td>8</td>\n",
       "      <td>42</td>\n",
       "      <td>Male</td>\n",
       "      <td>Head of Household</td>\n",
       "      <td>Married/Living together</td>\n",
       "      <td>Primary education</td>\n",
       "      <td>Self employed</td>\n",
       "    </tr>\n",
       "    <tr>\n",
       "      <th>10083</th>\n",
       "      <td>Uganda</td>\n",
       "      <td>2018</td>\n",
       "      <td>uniqueid_3000</td>\n",
       "      <td>Urban</td>\n",
       "      <td>Yes</td>\n",
       "      <td>1</td>\n",
       "      <td>39</td>\n",
       "      <td>Male</td>\n",
       "      <td>Head of Household</td>\n",
       "      <td>Single/Never Married</td>\n",
       "      <td>Secondary education</td>\n",
       "      <td>Other Income</td>\n",
       "    </tr>\n",
       "    <tr>\n",
       "      <th>10084</th>\n",
       "      <td>Uganda</td>\n",
       "      <td>2018</td>\n",
       "      <td>uniqueid_3001</td>\n",
       "      <td>Rural</td>\n",
       "      <td>Yes</td>\n",
       "      <td>6</td>\n",
       "      <td>28</td>\n",
       "      <td>Female</td>\n",
       "      <td>Spouse</td>\n",
       "      <td>Married/Living together</td>\n",
       "      <td>Primary education</td>\n",
       "      <td>Self employed</td>\n",
       "    </tr>\n",
       "    <tr>\n",
       "      <th>10085</th>\n",
       "      <td>Uganda</td>\n",
       "      <td>2018</td>\n",
       "      <td>uniqueid_3002</td>\n",
       "      <td>Urban</td>\n",
       "      <td>Yes</td>\n",
       "      <td>7</td>\n",
       "      <td>16</td>\n",
       "      <td>Male</td>\n",
       "      <td>Other relative</td>\n",
       "      <td>Single/Never Married</td>\n",
       "      <td>Secondary education</td>\n",
       "      <td>Other Income</td>\n",
       "    </tr>\n",
       "  </tbody>\n",
       "</table>\n",
       "</div>"
      ],
      "text/plain": [
       "      country  year       uniqueid location_type cellphone_access  \\\n",
       "10081  Uganda  2018  uniqueid_2998         Rural               No   \n",
       "10082  Uganda  2018  uniqueid_2999         Urban              Yes   \n",
       "10083  Uganda  2018  uniqueid_3000         Urban              Yes   \n",
       "10084  Uganda  2018  uniqueid_3001         Rural              Yes   \n",
       "10085  Uganda  2018  uniqueid_3002         Urban              Yes   \n",
       "\n",
       "       household_size  age_of_respondent gender_of_respondent  \\\n",
       "10081               2                 62               Female   \n",
       "10082               8                 42                 Male   \n",
       "10083               1                 39                 Male   \n",
       "10084               6                 28               Female   \n",
       "10085               7                 16                 Male   \n",
       "\n",
       "      relationship_with_head           marital_status      education_level  \\\n",
       "10081                 Spouse  Married/Living together    Primary education   \n",
       "10082      Head of Household  Married/Living together    Primary education   \n",
       "10083      Head of Household     Single/Never Married  Secondary education   \n",
       "10084                 Spouse  Married/Living together    Primary education   \n",
       "10085         Other relative     Single/Never Married  Secondary education   \n",
       "\n",
       "            job_type  \n",
       "10081  Self employed  \n",
       "10082  Self employed  \n",
       "10083   Other Income  \n",
       "10084  Self employed  \n",
       "10085   Other Income  "
      ]
     },
     "execution_count": 5,
     "metadata": {},
     "output_type": "execute_result"
    }
   ],
   "source": [
    "test.tail(5)"
   ]
  },
  {
   "cell_type": "code",
   "execution_count": 6,
   "id": "a8b8ce00",
   "metadata": {
    "ExecuteTime": {
     "end_time": "2021-08-10T03:52:57.659978Z",
     "start_time": "2021-08-10T03:52:57.571994Z"
    }
   },
   "outputs": [
    {
     "data": {
      "text/html": [
       "<div>\n",
       "<style scoped>\n",
       "    .dataframe tbody tr th:only-of-type {\n",
       "        vertical-align: middle;\n",
       "    }\n",
       "\n",
       "    .dataframe tbody tr th {\n",
       "        vertical-align: top;\n",
       "    }\n",
       "\n",
       "    .dataframe thead th {\n",
       "        text-align: right;\n",
       "    }\n",
       "</style>\n",
       "<table border=\"1\" class=\"dataframe\">\n",
       "  <thead>\n",
       "    <tr style=\"text-align: right;\">\n",
       "      <th></th>\n",
       "      <th>country</th>\n",
       "      <th>year</th>\n",
       "      <th>uniqueid</th>\n",
       "      <th>bank_account</th>\n",
       "      <th>location_type</th>\n",
       "      <th>cellphone_access</th>\n",
       "      <th>household_size</th>\n",
       "      <th>age_of_respondent</th>\n",
       "      <th>gender_of_respondent</th>\n",
       "      <th>relationship_with_head</th>\n",
       "      <th>marital_status</th>\n",
       "      <th>education_level</th>\n",
       "      <th>job_type</th>\n",
       "    </tr>\n",
       "  </thead>\n",
       "  <tbody>\n",
       "    <tr>\n",
       "      <th>23519</th>\n",
       "      <td>Uganda</td>\n",
       "      <td>2018</td>\n",
       "      <td>uniqueid_2113</td>\n",
       "      <td>No</td>\n",
       "      <td>Rural</td>\n",
       "      <td>Yes</td>\n",
       "      <td>4</td>\n",
       "      <td>48</td>\n",
       "      <td>Female</td>\n",
       "      <td>Head of Household</td>\n",
       "      <td>Divorced/Seperated</td>\n",
       "      <td>No formal education</td>\n",
       "      <td>Other Income</td>\n",
       "    </tr>\n",
       "    <tr>\n",
       "      <th>23520</th>\n",
       "      <td>Uganda</td>\n",
       "      <td>2018</td>\n",
       "      <td>uniqueid_2114</td>\n",
       "      <td>No</td>\n",
       "      <td>Rural</td>\n",
       "      <td>Yes</td>\n",
       "      <td>2</td>\n",
       "      <td>27</td>\n",
       "      <td>Female</td>\n",
       "      <td>Head of Household</td>\n",
       "      <td>Single/Never Married</td>\n",
       "      <td>Secondary education</td>\n",
       "      <td>Other Income</td>\n",
       "    </tr>\n",
       "    <tr>\n",
       "      <th>23521</th>\n",
       "      <td>Uganda</td>\n",
       "      <td>2018</td>\n",
       "      <td>uniqueid_2115</td>\n",
       "      <td>No</td>\n",
       "      <td>Rural</td>\n",
       "      <td>Yes</td>\n",
       "      <td>5</td>\n",
       "      <td>27</td>\n",
       "      <td>Female</td>\n",
       "      <td>Parent</td>\n",
       "      <td>Widowed</td>\n",
       "      <td>Primary education</td>\n",
       "      <td>Other Income</td>\n",
       "    </tr>\n",
       "    <tr>\n",
       "      <th>23522</th>\n",
       "      <td>Uganda</td>\n",
       "      <td>2018</td>\n",
       "      <td>uniqueid_2116</td>\n",
       "      <td>No</td>\n",
       "      <td>Urban</td>\n",
       "      <td>Yes</td>\n",
       "      <td>7</td>\n",
       "      <td>30</td>\n",
       "      <td>Female</td>\n",
       "      <td>Parent</td>\n",
       "      <td>Divorced/Seperated</td>\n",
       "      <td>Secondary education</td>\n",
       "      <td>Self employed</td>\n",
       "    </tr>\n",
       "    <tr>\n",
       "      <th>23523</th>\n",
       "      <td>Uganda</td>\n",
       "      <td>2018</td>\n",
       "      <td>uniqueid_2117</td>\n",
       "      <td>No</td>\n",
       "      <td>Rural</td>\n",
       "      <td>Yes</td>\n",
       "      <td>10</td>\n",
       "      <td>20</td>\n",
       "      <td>Male</td>\n",
       "      <td>Child</td>\n",
       "      <td>Single/Never Married</td>\n",
       "      <td>Secondary education</td>\n",
       "      <td>No Income</td>\n",
       "    </tr>\n",
       "  </tbody>\n",
       "</table>\n",
       "</div>"
      ],
      "text/plain": [
       "      country  year       uniqueid bank_account location_type  \\\n",
       "23519  Uganda  2018  uniqueid_2113           No         Rural   \n",
       "23520  Uganda  2018  uniqueid_2114           No         Rural   \n",
       "23521  Uganda  2018  uniqueid_2115           No         Rural   \n",
       "23522  Uganda  2018  uniqueid_2116           No         Urban   \n",
       "23523  Uganda  2018  uniqueid_2117           No         Rural   \n",
       "\n",
       "      cellphone_access  household_size  age_of_respondent  \\\n",
       "23519              Yes               4                 48   \n",
       "23520              Yes               2                 27   \n",
       "23521              Yes               5                 27   \n",
       "23522              Yes               7                 30   \n",
       "23523              Yes              10                 20   \n",
       "\n",
       "      gender_of_respondent relationship_with_head        marital_status  \\\n",
       "23519               Female      Head of Household    Divorced/Seperated   \n",
       "23520               Female      Head of Household  Single/Never Married   \n",
       "23521               Female                 Parent               Widowed   \n",
       "23522               Female                 Parent    Divorced/Seperated   \n",
       "23523                 Male                  Child  Single/Never Married   \n",
       "\n",
       "           education_level       job_type  \n",
       "23519  No formal education   Other Income  \n",
       "23520  Secondary education   Other Income  \n",
       "23521    Primary education   Other Income  \n",
       "23522  Secondary education  Self employed  \n",
       "23523  Secondary education      No Income  "
      ]
     },
     "execution_count": 6,
     "metadata": {},
     "output_type": "execute_result"
    }
   ],
   "source": [
    "train.tail(5)"
   ]
  },
  {
   "cell_type": "code",
   "execution_count": 7,
   "id": "ac818be5",
   "metadata": {
    "ExecuteTime": {
     "end_time": "2021-08-10T03:52:57.740093Z",
     "start_time": "2021-08-10T03:52:57.662916Z"
    },
    "scrolled": true
   },
   "outputs": [
    {
     "data": {
      "text/html": [
       "<div>\n",
       "<style scoped>\n",
       "    .dataframe tbody tr th:only-of-type {\n",
       "        vertical-align: middle;\n",
       "    }\n",
       "\n",
       "    .dataframe tbody tr th {\n",
       "        vertical-align: top;\n",
       "    }\n",
       "\n",
       "    .dataframe thead th {\n",
       "        text-align: right;\n",
       "    }\n",
       "</style>\n",
       "<table border=\"1\" class=\"dataframe\">\n",
       "  <thead>\n",
       "    <tr style=\"text-align: right;\">\n",
       "      <th></th>\n",
       "      <th>Variable Definitions</th>\n",
       "      <th>Unnamed: 1</th>\n",
       "    </tr>\n",
       "  </thead>\n",
       "  <tbody>\n",
       "    <tr>\n",
       "      <th>0</th>\n",
       "      <td>country</td>\n",
       "      <td>Country interviewee is in.</td>\n",
       "    </tr>\n",
       "    <tr>\n",
       "      <th>1</th>\n",
       "      <td>year</td>\n",
       "      <td>Year survey was done in.</td>\n",
       "    </tr>\n",
       "    <tr>\n",
       "      <th>2</th>\n",
       "      <td>uniqueid</td>\n",
       "      <td>Unique identifier for each interviewee</td>\n",
       "    </tr>\n",
       "    <tr>\n",
       "      <th>3</th>\n",
       "      <td>location_type</td>\n",
       "      <td>Type of location: Rural, Urban</td>\n",
       "    </tr>\n",
       "    <tr>\n",
       "      <th>4</th>\n",
       "      <td>cellphone_access</td>\n",
       "      <td>If interviewee has access to a cellphone: Yes, No</td>\n",
       "    </tr>\n",
       "    <tr>\n",
       "      <th>5</th>\n",
       "      <td>household_size</td>\n",
       "      <td>Number of people living in one house</td>\n",
       "    </tr>\n",
       "    <tr>\n",
       "      <th>6</th>\n",
       "      <td>age_of_respondent</td>\n",
       "      <td>The age of the interviewee</td>\n",
       "    </tr>\n",
       "    <tr>\n",
       "      <th>7</th>\n",
       "      <td>gender_of_respondent</td>\n",
       "      <td>Gender of interviewee: Male, Female</td>\n",
       "    </tr>\n",
       "    <tr>\n",
       "      <th>8</th>\n",
       "      <td>relationship_with_head</td>\n",
       "      <td>The interviewee’s relationship with the head o...</td>\n",
       "    </tr>\n",
       "    <tr>\n",
       "      <th>9</th>\n",
       "      <td>marital_status</td>\n",
       "      <td>The martial status of the interviewee: Married...</td>\n",
       "    </tr>\n",
       "    <tr>\n",
       "      <th>10</th>\n",
       "      <td>education_level</td>\n",
       "      <td>Highest level of education: No formal educatio...</td>\n",
       "    </tr>\n",
       "    <tr>\n",
       "      <th>11</th>\n",
       "      <td>job_type</td>\n",
       "      <td>Type of job interviewee has: Farming and Fishi...</td>\n",
       "    </tr>\n",
       "  </tbody>\n",
       "</table>\n",
       "</div>"
      ],
      "text/plain": [
       "      Variable Definitions                                         Unnamed: 1\n",
       "0                  country                         Country interviewee is in.\n",
       "1                     year                           Year survey was done in.\n",
       "2                 uniqueid             Unique identifier for each interviewee\n",
       "3            location_type                     Type of location: Rural, Urban\n",
       "4         cellphone_access  If interviewee has access to a cellphone: Yes, No\n",
       "5           household_size               Number of people living in one house\n",
       "6        age_of_respondent                         The age of the interviewee\n",
       "7     gender_of_respondent                Gender of interviewee: Male, Female\n",
       "8   relationship_with_head  The interviewee’s relationship with the head o...\n",
       "9           marital_status  The martial status of the interviewee: Married...\n",
       "10         education_level  Highest level of education: No formal educatio...\n",
       "11                job_type  Type of job interviewee has: Farming and Fishi..."
      ]
     },
     "execution_count": 7,
     "metadata": {},
     "output_type": "execute_result"
    }
   ],
   "source": [
    "vd"
   ]
  },
  {
   "cell_type": "code",
   "execution_count": 8,
   "id": "364111aa",
   "metadata": {
    "ExecuteTime": {
     "end_time": "2021-08-10T03:52:57.820232Z",
     "start_time": "2021-08-10T03:52:57.745024Z"
    }
   },
   "outputs": [
    {
     "data": {
      "text/plain": [
       "Index(['bank_account'], dtype='object')"
      ]
     },
     "execution_count": 8,
     "metadata": {},
     "output_type": "execute_result"
    }
   ],
   "source": [
    "train.columns.difference(test.columns)"
   ]
  },
  {
   "cell_type": "code",
   "execution_count": 9,
   "id": "46dc8afe",
   "metadata": {
    "ExecuteTime": {
     "end_time": "2021-08-10T03:52:57.926056Z",
     "start_time": "2021-08-10T03:52:57.826563Z"
    }
   },
   "outputs": [
    {
     "data": {
      "text/plain": [
       "Series([], dtype: int64)"
      ]
     },
     "execution_count": 9,
     "metadata": {},
     "output_type": "execute_result"
    }
   ],
   "source": [
    "train.isna().sum()[train.isna().sum()!=0]"
   ]
  },
  {
   "cell_type": "code",
   "execution_count": 10,
   "id": "94fa567f",
   "metadata": {
    "ExecuteTime": {
     "end_time": "2021-08-10T03:52:58.025806Z",
     "start_time": "2021-08-10T03:52:57.930095Z"
    }
   },
   "outputs": [
    {
     "data": {
      "text/plain": [
       "Series([], dtype: int64)"
      ]
     },
     "execution_count": 10,
     "metadata": {},
     "output_type": "execute_result"
    }
   ],
   "source": [
    "test.isna().sum()[test.isna().sum()!=0]"
   ]
  },
  {
   "cell_type": "code",
   "execution_count": 11,
   "id": "bdc2d6c4",
   "metadata": {
    "ExecuteTime": {
     "end_time": "2021-08-10T03:52:58.094697Z",
     "start_time": "2021-08-10T03:52:58.032410Z"
    }
   },
   "outputs": [
    {
     "data": {
      "text/plain": [
       "No     20212\n",
       "Yes     3312\n",
       "Name: bank_account, dtype: int64"
      ]
     },
     "execution_count": 11,
     "metadata": {},
     "output_type": "execute_result"
    }
   ],
   "source": [
    "train.bank_account.value_counts()"
   ]
  },
  {
   "cell_type": "code",
   "execution_count": 12,
   "id": "66868296",
   "metadata": {
    "ExecuteTime": {
     "end_time": "2021-08-10T03:52:58.183830Z",
     "start_time": "2021-08-10T03:52:58.097798Z"
    }
   },
   "outputs": [
    {
     "data": {
      "text/plain": [
       "country                      4\n",
       "year                         3\n",
       "uniqueid                  8735\n",
       "bank_account                 2\n",
       "location_type                2\n",
       "cellphone_access             2\n",
       "household_size              20\n",
       "age_of_respondent           85\n",
       "gender_of_respondent         2\n",
       "relationship_with_head       6\n",
       "marital_status               5\n",
       "education_level              6\n",
       "job_type                    10\n",
       "dtype: int64"
      ]
     },
     "execution_count": 12,
     "metadata": {},
     "output_type": "execute_result"
    }
   ],
   "source": [
    "train.nunique()"
   ]
  },
  {
   "cell_type": "code",
   "execution_count": 13,
   "id": "3a0a6a61",
   "metadata": {
    "ExecuteTime": {
     "end_time": "2021-08-10T03:52:58.257787Z",
     "start_time": "2021-08-10T03:52:58.186098Z"
    }
   },
   "outputs": [
    {
     "data": {
      "text/plain": [
       "country                      4\n",
       "year                         3\n",
       "uniqueid                  7313\n",
       "location_type                2\n",
       "cellphone_access             2\n",
       "household_size              18\n",
       "age_of_respondent           83\n",
       "gender_of_respondent         2\n",
       "relationship_with_head       6\n",
       "marital_status               5\n",
       "education_level              6\n",
       "job_type                    10\n",
       "dtype: int64"
      ]
     },
     "execution_count": 13,
     "metadata": {},
     "output_type": "execute_result"
    }
   ],
   "source": [
    "test.nunique()"
   ]
  },
  {
   "cell_type": "code",
   "execution_count": 14,
   "id": "0a30a50f",
   "metadata": {
    "ExecuteTime": {
     "end_time": "2021-08-10T03:52:58.874283Z",
     "start_time": "2021-08-10T03:52:58.264679Z"
    }
   },
   "outputs": [
    {
     "data": {
      "text/plain": [
       "<AxesSubplot:>"
      ]
     },
     "execution_count": 14,
     "metadata": {},
     "output_type": "execute_result"
    },
    {
     "data": {
      "image/png": "[encoded data removed]",
      "text/plain": [
       "<Figure size 432x288 with 1 Axes>"
      ]
     },
     "metadata": {
      "needs_background": "light"
     },
     "output_type": "display_data"
    }
   ],
   "source": [
    "train.loc[train.bank_account==\"No\"].age_of_respondent.hist()"
   ]
  },
  {
   "cell_type": "code",
   "execution_count": 15,
   "id": "2f70e6ab",
   "metadata": {
    "ExecuteTime": {
     "end_time": "2021-08-10T03:52:59.104298Z",
     "start_time": "2021-08-10T03:52:58.876233Z"
    }
   },
   "outputs": [
    {
     "data": {
      "text/plain": [
       "<AxesSubplot:>"
      ]
     },
     "execution_count": 15,
     "metadata": {},
     "output_type": "execute_result"
    },
    {
     "data": {
      "image/png": "[encoded data removed]",
      "text/plain": [
       "<Figure size 432x288 with 1 Axes>"
      ]
     },
     "metadata": {
      "needs_background": "light"
     },
     "output_type": "display_data"
    }
   ],
   "source": [
    "train.loc[train.bank_account==\"Yes\"].age_of_respondent.hist()"
   ]
  },
  {
   "cell_type": "markdown",
   "id": "be746515",
   "metadata": {},
   "source": [
    "## Little Data Preparation"
   ]
  },
  {
   "cell_type": "code",
   "execution_count": 16,
   "id": "f5e89123",
   "metadata": {
    "ExecuteTime": {
     "end_time": "2021-08-10T03:52:59.110917Z",
     "start_time": "2021-08-10T03:52:59.106387Z"
    }
   },
   "outputs": [
    {
     "name": "stdout",
     "output_type": "stream",
     "text": [
      "['age_of_respondent', 'cellphone_access', 'country', 'education_level', 'gender_of_respondent', 'household_size', 'job_type', 'location_type', 'marital_status', 'relationship_with_head', 'year']\n"
     ]
    }
   ],
   "source": [
    "feature_names = list(train.columns.difference([\"bank_account\", \"uniqueid\"]))\n",
    "print(sorted((feature_names)))"
   ]
  },
  {
   "cell_type": "code",
   "execution_count": 17,
   "id": "03e42a5b",
   "metadata": {
    "ExecuteTime": {
     "end_time": "2021-08-10T03:52:59.194584Z",
     "start_time": "2021-08-10T03:52:59.113031Z"
    }
   },
   "outputs": [
    {
     "data": {
      "text/plain": [
       "(array(['Kenya', 'Rwanda', 'Tanzania', 'Uganda'], dtype=object),\n",
       " array(['Kenya', 'Rwanda', 'Tanzania', 'Uganda'], dtype=object))"
      ]
     },
     "execution_count": 17,
     "metadata": {},
     "output_type": "execute_result"
    }
   ],
   "source": [
    "train.country.unique(), test.country.unique()"
   ]
  },
  {
   "cell_type": "code",
   "execution_count": 18,
   "id": "163b2173",
   "metadata": {
    "ExecuteTime": {
     "end_time": "2021-08-10T03:52:59.270617Z",
     "start_time": "2021-08-10T03:52:59.197364Z"
    }
   },
   "outputs": [],
   "source": [
    "train_group_ids=train.country\n",
    "test_group_ids=test.country"
   ]
  },
  {
   "cell_type": "code",
   "execution_count": 19,
   "id": "cdccbbc3",
   "metadata": {
    "ExecuteTime": {
     "end_time": "2021-08-10T03:52:59.367806Z",
     "start_time": "2021-08-10T03:52:59.272672Z"
    }
   },
   "outputs": [],
   "source": [
    "train_subgroup_ids=train.uniqueid\n",
    "test_subgroup_ids=test.uniqueid"
   ]
  },
  {
   "cell_type": "code",
   "execution_count": 20,
   "id": "3ff758e6",
   "metadata": {
    "ExecuteTime": {
     "end_time": "2021-08-10T03:52:59.489888Z",
     "start_time": "2021-08-10T03:52:59.370425Z"
    },
    "scrolled": true
   },
   "outputs": [
    {
     "data": {
      "text/plain": [
       "(array([2018, 2016, 2017]), array([2018, 2016, 2017]))"
      ]
     },
     "execution_count": 20,
     "metadata": {},
     "output_type": "execute_result"
    }
   ],
   "source": [
    "train.year.unique(), test.year.unique()"
   ]
  },
  {
   "cell_type": "code",
   "execution_count": 21,
   "id": "1783dce4",
   "metadata": {
    "ExecuteTime": {
     "end_time": "2021-08-10T03:52:59.571307Z",
     "start_time": "2021-08-10T03:52:59.492885Z"
    }
   },
   "outputs": [],
   "source": [
    "train_group_weights=train.country.value_counts(normalize=True)#.apply(lambda x: 1-x)\n",
    "train_group_weights.name=\"train_group_weights\""
   ]
  },
  {
   "cell_type": "code",
   "execution_count": 22,
   "id": "d04176cc",
   "metadata": {
    "ExecuteTime": {
     "end_time": "2021-08-10T03:52:59.668613Z",
     "start_time": "2021-08-10T03:52:59.573773Z"
    }
   },
   "outputs": [],
   "source": [
    "train_group_weights=train.join(train_group_weights, on=\"country\")[\"train_group_weights\"]"
   ]
  },
  {
   "cell_type": "code",
   "execution_count": 23,
   "id": "26d72729",
   "metadata": {
    "ExecuteTime": {
     "end_time": "2021-08-10T03:52:59.756626Z",
     "start_time": "2021-08-10T03:52:59.676192Z"
    }
   },
   "outputs": [],
   "source": [
    "test_group_weights = test.country.value_counts(normalize=True)#.apply(lambda x: 1-x)\n",
    "test_group_weights.name = \"test_group_weights\""
   ]
  },
  {
   "cell_type": "code",
   "execution_count": 24,
   "id": "65fb0c4e",
   "metadata": {
    "ExecuteTime": {
     "end_time": "2021-08-10T03:52:59.836920Z",
     "start_time": "2021-08-10T03:52:59.762479Z"
    }
   },
   "outputs": [],
   "source": [
    "test_group_weights=test.join(test_group_weights, on=\"country\")[\"test_group_weights\"]"
   ]
  },
  {
   "cell_type": "code",
   "execution_count": 25,
   "id": "33209b5d",
   "metadata": {
    "ExecuteTime": {
     "end_time": "2021-08-10T03:52:59.903713Z",
     "start_time": "2021-08-10T03:52:59.841690Z"
    }
   },
   "outputs": [],
   "source": [
    "X=train[feature_names]\n",
    "y=train.bank_account\n",
    "X_test=test[feature_names]"
   ]
  },
  {
   "cell_type": "code",
   "execution_count": 26,
   "id": "ac54ced1",
   "metadata": {
    "ExecuteTime": {
     "end_time": "2021-08-10T03:52:59.982299Z",
     "start_time": "2021-08-10T03:52:59.908614Z"
    }
   },
   "outputs": [],
   "source": [
    "# text_features=train.columns[-4:]"
   ]
  },
  {
   "cell_type": "code",
   "execution_count": 27,
   "id": "cf7f31cd",
   "metadata": {
    "ExecuteTime": {
     "end_time": "2021-08-10T03:53:00.070581Z",
     "start_time": "2021-08-10T03:52:59.985437Z"
    }
   },
   "outputs": [
    {
     "data": {
      "text/plain": [
       "Index(['cellphone_access', 'country', 'education_level',\n",
       "       'gender_of_respondent', 'job_type', 'location_type', 'marital_status',\n",
       "       'relationship_with_head'],\n",
       "      dtype='object')"
      ]
     },
     "execution_count": 27,
     "metadata": {},
     "output_type": "execute_result"
    }
   ],
   "source": [
    "cat_features=X.select_dtypes(\"object\").columns#.difference(text_features)\n",
    "cat_features"
   ]
  },
  {
   "cell_type": "code",
   "execution_count": 28,
   "id": "1d6a42ad",
   "metadata": {
    "ExecuteTime": {
     "end_time": "2021-08-10T03:53:00.207289Z",
     "start_time": "2021-08-10T03:53:00.073264Z"
    }
   },
   "outputs": [],
   "source": [
    "bank_account_mapper={\"Yes\":1, \"No\":0}\n",
    "inverse_bank_account_mapper={1:\"Yes\", 0:\"No\"}\n",
    "\n",
    "y=y.replace(bank_account_mapper)\n",
    "\n",
    "y.value_counts()\n",
    "\n",
    "X.year=X.year.apply(str)\n",
    "X_test.year=X_test.year.apply(str)\n",
    "\n",
    "X.household_size=X.household_size.apply(str)\n",
    "X_test.household_size=X_test.household_size.apply(str)\n",
    "\n",
    "# scaler=MinMaxScaler()\n",
    "\n",
    "# X[\"age_of_respondent\"]=scaler.fit_transform(X[[\"age_of_respondent\"]])\n",
    "# X_test[\"age_of_respondent\"]=scaler.transform(X_test[[\"age_of_respondent\"]])"
   ]
  },
  {
   "cell_type": "markdown",
   "id": "6df56163",
   "metadata": {},
   "source": [
    "## Train Function and utilities"
   ]
  },
  {
   "cell_type": "code",
   "execution_count": 29,
   "id": "e7c33d59",
   "metadata": {
    "ExecuteTime": {
     "end_time": "2021-08-10T03:53:00.243002Z",
     "start_time": "2021-08-10T03:53:00.214041Z"
    }
   },
   "outputs": [],
   "source": [
    "skf = StratifiedKFold(random_state=2021, n_splits=5, shuffle=True)\n",
    "\n",
    "def cat_predict(estimator,train,label,test,estimator_name):\n",
    "    mean_train = []\n",
    "    mean_test_val = []\n",
    "    # test_pred = np.zeros(test.shape[0])\n",
    "    test_pred=pd.DataFrame()\n",
    "    val_pred = np.zeros(train.shape[0])\n",
    "    for count, (train_index,test_index) in enumerate(skf.split(train,label)):\n",
    "        x_train,x_test = train.iloc[train_index],train.iloc[test_index]\n",
    "        y_train,y_test = label.iloc[train_index],label.iloc[test_index]\n",
    "#         train_group_id, val_group_id = train_group_ids.iloc[train_index], train_group_ids.iloc[test_index]\n",
    "#         train_group_weight, val_group_weight = train_group_weights.iloc[train_index], train_group_weights.iloc[test_index]\n",
    "#         train_subgroup_id, val_subgroup_id = train_subgroup_ids.iloc[train_index], train_subgroup_ids.iloc[test_index]\n",
    "        \n",
    "        print(f'========================Fold{count +1}==========================')\n",
    "        # estimator = clone(estimator)\n",
    "        estimator.fit(Pool(x_train,y_train, feature_names=feature_names, \n",
    "#                            group_id=train_group_id, \n",
    "#                           subgroup_id=train_subgroup_id, \n",
    "#                            group_weight=train_group_weight, \n",
    "                           cat_features=cat_features,\n",
    "#                            text_features=text_features\n",
    "                          ), \n",
    "                      eval_set=[Pool(x_test,y_test, feature_names=feature_names, \n",
    "#                                      group_id=val_group_id,\n",
    "#                                      subgroup_id=val_subgroup_id, \n",
    "#                                      group_weight=val_group_weight, \n",
    "                                     cat_features=cat_features,\n",
    "#                            text_features=text_features\n",
    "                                    )],early_stopping_rounds=200,\n",
    "                           verbose=2500,use_best_model=True)\n",
    "        train_predict = estimator.predict(Pool(x_train, y_train, feature_names=feature_names, \n",
    "#                                                group_id=train_group_id, \n",
    "#                                                subgroup_id=train_subgroup_id, \n",
    "#                                                group_weight=train_group_weight, \n",
    "                                               cat_features=cat_features,\n",
    "#                            text_features=text_features\n",
    "                                              )) \n",
    "        test_predict = estimator.predict(Pool(x_test, y_test, feature_names=feature_names, \n",
    "#                                               group_id=val_group_id, \n",
    "#                                               subgroup_id=val_subgroup_id, \n",
    "#                                               group_weight=val_group_weight, \n",
    "                                              cat_features=cat_features,\n",
    "#                            text_features=text_features\n",
    "                                             )) \n",
    "                                         \n",
    "        val_pred[test_index] = test_predict.reshape(test_index.shape[0],)\n",
    "        test_pred = pd.concat([test_pred, pd.Series(estimator.predict(Pool(test, feature_names=feature_names, \n",
    "#                           group_id=test_group_id, \n",
    "#                           subgroup_id=test_subgroup_ids,\n",
    "#                           group_weight=test_group_weights, \n",
    "                           cat_features=cat_features,\n",
    "#                            text_features=text_features\n",
    "                            )).reshape(test.shape[0],), name=f\"fold {count+1}\")], axis=1)\n",
    "        \n",
    "        print('\\nTesting scores', roc_auc_score(y_test,test_predict))\n",
    "        print('\\nTraining scores', roc_auc_score(y_train,train_predict))\n",
    "        mean_train.append(roc_auc_score(y_train, train_predict))\n",
    "        mean_test_val.append(roc_auc_score(y_test,test_predict))\n",
    "    print('Average Testing ROC score for 5 folds split:',np.mean(mean_test_val))\n",
    "    print('Average Training ROC score for 5 folds split:',np.mean(mean_train))\n",
    "    print('standard Deviation for 5 folds split:',np.std(mean_test_val))\n",
    "    return val_pred, test_pred, estimator_name"
   ]
  },
  {
   "cell_type": "markdown",
   "id": "e3c6c35a",
   "metadata": {},
   "source": [
    "## Modelization"
   ]
  },
  {
   "cell_type": "code",
   "execution_count": 54,
   "id": "4088a04f",
   "metadata": {
    "ExecuteTime": {
     "end_time": "2021-08-10T04:42:09.537547Z",
     "start_time": "2021-08-10T04:40:08.138650Z"
    },
    "scrolled": true
   },
   "outputs": [
    {
     "name": "stdout",
     "output_type": "stream",
     "text": [
      "========================Fold1==========================\n",
      "Learning rate set to 0.004829\n",
      "0:\tlearn: 0.7382332\ttest: 0.7435091\tbest: 0.7435091 (0)\ttotal: 25.8ms\tremaining: 2h 52m 6s\n",
      "Stopped by overfitting detector  (200 iterations wait)\n",
      "\n",
      "bestTest = 0.7846691564\n",
      "bestIteration = 725\n",
      "\n",
      "Shrink model to first 726 iterations.\n",
      "\n",
      "Testing scores 0.78466915636197\n",
      "\n",
      "Training scores 0.7843461774702675\n",
      "========================Fold2==========================\n",
      "Learning rate set to 0.004829\n",
      "0:\tlearn: 0.7437115\ttest: 0.7408398\tbest: 0.7408398 (0)\ttotal: 26.5ms\tremaining: 2h 56m 53s\n",
      "Stopped by overfitting detector  (200 iterations wait)\n",
      "\n",
      "bestTest = 0.7770039771\n",
      "bestIteration = 355\n",
      "\n",
      "Shrink model to first 356 iterations.\n",
      "\n",
      "Testing scores 0.7770039770942062\n",
      "\n",
      "Training scores 0.7766447730126748\n",
      "========================Fold3==========================\n",
      "Learning rate set to 0.004829\n",
      "0:\tlearn: 0.7417297\ttest: 0.7322374\tbest: 0.7322374 (0)\ttotal: 35.1ms\tremaining: 3h 54m 4s\n",
      "Stopped by overfitting detector  (200 iterations wait)\n",
      "\n",
      "bestTest = 0.7860126002\n",
      "bestIteration = 854\n",
      "\n",
      "Shrink model to first 855 iterations.\n",
      "\n",
      "Testing scores 0.7860126001974246\n",
      "\n",
      "Training scores 0.788191647888984\n",
      "========================Fold4==========================\n",
      "Learning rate set to 0.004829\n",
      "0:\tlearn: 0.7420730\ttest: 0.7308638\tbest: 0.7308638 (0)\ttotal: 22.9ms\tremaining: 2h 32m 38s\n",
      "Stopped by overfitting detector  (200 iterations wait)\n",
      "\n",
      "bestTest = 0.7746169763\n",
      "bestIteration = 1100\n",
      "\n",
      "Shrink model to first 1101 iterations.\n",
      "\n",
      "Testing scores 0.7746169762664649\n",
      "\n",
      "Training scores 0.7970506221432347\n",
      "========================Fold5==========================\n",
      "Learning rate set to 0.004829\n",
      "0:\tlearn: 0.7399398\ttest: 0.7401357\tbest: 0.7401357 (0)\ttotal: 26.1ms\tremaining: 2h 54m 18s\n",
      "Stopped by overfitting detector  (200 iterations wait)\n",
      "\n",
      "bestTest = 0.7751857012\n",
      "bestIteration = 337\n",
      "\n",
      "Shrink model to first 338 iterations.\n",
      "\n",
      "Testing scores 0.7751857011948557\n",
      "\n",
      "Training scores 0.7756351734518852\n",
      "Average Testing ROC score for 5 folds split: 0.7794976822229843\n",
      "Average Training ROC score for 5 folds split: 0.7843736787934092\n",
      "standard Deviation for 5 folds split: 0.0048543040134322426\n"
     ]
    }
   ],
   "source": [
    "clf = CatBoostClassifier(random_state=34, use_best_model=True, \n",
    "                         n_estimators=400000, eval_metric='BalancedAccuracy',\n",
    "                         class_weights = train.bank_account.value_counts(normalize=True,  dropna=False).sort_index().apply(lambda x: 1-x).values,\n",
    "#                          cat_features=cat_features_indices,\n",
    "#                          learning_rate=0.1,\n",
    "#                          max_ctr_complexity=15,\n",
    "#                          simple_ctr=\"Buckets\",\n",
    "#                          one_hot_max_size=25\n",
    "                        )\n",
    "cat1_train, cat1_test, cat1_name = cat_predict(clf,X, y, X_test,  'catboost(1)')"
   ]
  },
  {
   "cell_type": "markdown",
   "id": "c356a98c",
   "metadata": {},
   "source": [
    "## Evaluation"
   ]
  },
  {
   "cell_type": "code",
   "execution_count": 56,
   "id": "06fec519",
   "metadata": {
    "ExecuteTime": {
     "end_time": "2021-08-10T05:39:55.293131Z",
     "start_time": "2021-08-10T05:39:55.220740Z"
    },
    "scrolled": true
   },
   "outputs": [
    {
     "data": {
      "text/plain": [
       "array([[16388,  3824],\n",
       "       [  834,  2478]])"
      ]
     },
     "execution_count": 56,
     "metadata": {},
     "output_type": "execute_result"
    }
   ],
   "source": [
    "confusion_matrix(y, pd.Series(cat1_train).apply(int))#.value_counts()#.replace(inverse_bank_account_mapper)"
   ]
  },
  {
   "cell_type": "code",
   "execution_count": 57,
   "id": "e1843abc",
   "metadata": {
    "ExecuteTime": {
     "end_time": "2021-08-10T05:39:57.316273Z",
     "start_time": "2021-08-10T05:39:57.265070Z"
    }
   },
   "outputs": [
    {
     "name": "stdout",
     "output_type": "stream",
     "text": [
      "              precision    recall  f1-score   support\n",
      "\n",
      "           0       0.95      0.81      0.88     20212\n",
      "           1       0.39      0.75      0.52      3312\n",
      "\n",
      "    accuracy                           0.80     23524\n",
      "   macro avg       0.67      0.78      0.70     23524\n",
      "weighted avg       0.87      0.80      0.82     23524\n",
      "\n"
     ]
    }
   ],
   "source": [
    "print(classification_report(y, pd.Series(cat1_train).apply(int)))"
   ]
  },
  {
   "cell_type": "code",
   "execution_count": 33,
   "id": "5a73e38f",
   "metadata": {
    "ExecuteTime": {
     "end_time": "2021-08-10T03:55:25.206363Z",
     "start_time": "2021-08-10T03:55:25.157848Z"
    }
   },
   "outputs": [
    {
     "data": {
      "text/plain": [
       "0.19801054242475769"
      ]
     },
     "execution_count": 33,
     "metadata": {},
     "output_type": "execute_result"
    }
   ],
   "source": [
    "1-accuracy_score(y, pd.Series(cat1_train).apply(int))"
   ]
  },
  {
   "cell_type": "code",
   "execution_count": 34,
   "id": "1bc72f4a",
   "metadata": {
    "ExecuteTime": {
     "end_time": "2021-08-10T03:55:27.227431Z",
     "start_time": "2021-08-10T03:55:25.209659Z"
    },
    "scrolled": true
   },
   "outputs": [
    {
     "data": {
      "text/plain": [
       "No     7348\n",
       "Yes    2738\n",
       "dtype: int64"
      ]
     },
     "execution_count": 34,
     "metadata": {},
     "output_type": "execute_result"
    }
   ],
   "source": [
    "cat1_test.apply(lambda x: mode(x.values)[0][0], axis=1).replace(inverse_bank_account_mapper).value_counts()"
   ]
  },
  {
   "cell_type": "markdown",
   "id": "074b8274",
   "metadata": {},
   "source": [
    "## Submission"
   ]
  },
  {
   "cell_type": "code",
   "execution_count": 35,
   "id": "8a2771c9",
   "metadata": {
    "ExecuteTime": {
     "end_time": "2021-08-10T03:55:30.023277Z",
     "start_time": "2021-08-10T03:55:27.231021Z"
    }
   },
   "outputs": [],
   "source": [
    "test[\"bank_account\"] = cat1_test.apply(lambda x: mode(x.values)[0][0], axis=1)#.replace(inverse_bank_account_mapper)\n",
    "\n",
    "test[\"unique_id\"]=test.uniqueid+ \" x \"+test.country\n",
    "\n",
    "test[[\"unique_id\", \"bank_account\"]].to_csv('../Submissions/baseline.csv', index=False)"
   ]
  },
  {
   "cell_type": "code",
   "execution_count": null,
   "id": "fafdb530",
   "metadata": {},
   "outputs": [],
   "source": []
  }
 ],
 "metadata": {
  "hide_input": false,
  "kernelspec": {
   "display_name": "Python 3",
   "language": "python",
   "name": "python3"
  },
  "language_info": {
   "codemirror_mode": {
    "name": "ipython",
    "version": 3
   },
   "file_extension": ".py",
   "mimetype": "text/x-python",
   "name": "python",
   "nbconvert_exporter": "python",
   "pygments_lexer": "ipython3",
   "version": "3.8.10"
  },
  "latex_envs": {
   "LaTeX_envs_menu_present": true,
   "autoclose": false,
   "autocomplete": true,
   "bibliofile": "biblio.bib",
   "cite_by": "apalike",
   "current_citInitial": 1,
   "eqLabelWithNumbers": true,
   "eqNumInitial": 1,
   "hotkeys": {
    "equation": "Ctrl-E",
    "itemize": "Ctrl-I"
   },
   "labels_anchors": false,
   "latex_user_defs": false,
   "report_style_numbering": false,
   "user_envs_cfg": false
  },
  "nbTranslate": {
   "displayLangs": [
    "*"
   ],
   "hotkey": "alt-t",
   "langInMainMenu": true,
   "sourceLang": "en",
   "targetLang": "fr",
   "useGoogleTranslate": true
  },
  "toc": {
   "base_numbering": 1,
   "nav_menu": {},
   "number_sections": true,
   "sideBar": true,
   "skip_h1_title": false,
   "title_cell": "Table of Contents",
   "title_sidebar": "Contents",
   "toc_cell": false,
   "toc_position": {},
   "toc_section_display": true,
   "toc_window_display": false
  },
  "varInspector": {
   "cols": {
    "lenName": 16,
    "lenType": 16,
    "lenVar": 40
   },
   "kernels_config": {
    "python": {
     "delete_cmd_postfix": "",
     "delete_cmd_prefix": "del ",
     "library": "var_list.py",
     "varRefreshCmd": "print(var_dic_list())"
    },
    "r": {
     "delete_cmd_postfix": ") ",
     "delete_cmd_prefix": "rm(",
     "library": "var_list.r",
     "varRefreshCmd": "cat(var_dic_list()) "
    }
   },
   "types_to_exclude": [
    "module",
    "function",
    "builtin_function_or_method",
    "instance",
    "_Feature"
   ],
   "window_display": false
  }
 },
 "nbformat": 4,
 "nbformat_minor": 5
}
